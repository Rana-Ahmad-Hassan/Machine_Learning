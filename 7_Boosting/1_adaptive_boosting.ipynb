{
 "cells": [
  {
   "cell_type": "markdown",
   "id": "ad326596",
   "metadata": {},
   "source": [
    "`Adaptive Boosting (AdaBoost)\n",
    "`\n",
    "Adaptive Boosting, also known as AdaBoost, is a popular boosting algorithm used for classification and regression tasks. It's an ensemble learning technique that combines multiple weak models to create a strong predictive model.\n",
    "\n",
    "`How AdaBoost Works:\n",
    "`\n",
    "1. Initial Model: A simple model is trained on the data, with equal weights assigned to each sample.\n",
    "2. Error Calculation: The errors of the initial model are calculated, and the weights of the samples are adjusted based on the errors.\n",
    "3. New Model: A new model is trained on the data, with the weights of the samples taken into account.\n",
    "4. Iteration: Steps 2-3 are repeated, with each new model attempting to improve upon the previous one.\n",
    "5. Final Model: The final model is a weighted combination of all the individual models.\n",
    "\n",
    "`Key Features of AdaBoost:\n",
    "`\n",
    "1. Adaptive Weighting: AdaBoost adaptively adjusts the weights of the samples based on the errors.\n",
    "2. Focus on Hard Samples: AdaBoost focuses on the samples that are hardest to classify, by assigning higher weights to them.\n",
    "3. Handling Noise: AdaBoost can handle noisy data, by reducing the impact of outliers.\n",
    "\n",
    "`Advantages:\n",
    "`\n",
    "1. Improved Accuracy: AdaBoost often improves the accuracy of the base model.\n",
    "2. Handling Imbalanced Data: AdaBoost can handle imbalanced datasets, where one class has a significantly larger number of instances than the others.\n",
    "3. Robustness: AdaBoost is robust to overfitting and noise in the data.\n",
    "\n",
    "`Applications:\n",
    "`\n",
    "1. Classification: AdaBoost is widely used for classification tasks, such as image classification, sentiment analysis, and medical diagnosis.\n",
    "2. Face Detection: AdaBoost is used in face detection algorithms, to detect faces in images"
   ]
  },
  {
   "cell_type": "code",
   "execution_count": 31,
   "id": "944b121e",
   "metadata": {},
   "outputs": [],
   "source": [
    "import numpy as np\n",
    "import pandas as pd\n",
    "from sklearn.ensemble import AdaBoostClassifier\n",
    "from sklearn.model_selection import train_test_split\n",
    "import seaborn as sns\n",
    "from sklearn.preprocessing import LabelEncoder, OneHotEncoder, StandardScaler\n",
    "from sklearn.metrics import accuracy_score, precision_score, recall_score, f1_score, confusion_matrix, classification_report,  mean_squared_error, r2_score\n"
   ]
  },
  {
   "cell_type": "code",
   "execution_count": 32,
   "id": "7b220f91",
   "metadata": {},
   "outputs": [],
   "source": [
    "data = sns.load_dataset(\"titanic\")"
   ]
  },
  {
   "cell_type": "code",
   "execution_count": 33,
   "id": "f5842aac",
   "metadata": {},
   "outputs": [
    {
     "name": "stdout",
     "output_type": "stream",
     "text": [
      "   survived  pclass     sex   age  sibsp  parch     fare embarked  class  \\\n",
      "0         0       3    male  22.0      1      0   7.2500        S  Third   \n",
      "1         1       1  female  38.0      1      0  71.2833        C  First   \n",
      "2         1       3  female  26.0      0      0   7.9250        S  Third   \n",
      "3         1       1  female  35.0      1      0  53.1000        S  First   \n",
      "4         0       3    male  35.0      0      0   8.0500        S  Third   \n",
      "\n",
      "     who  adult_male deck  embark_town alive  alone  \n",
      "0    man        True  NaN  Southampton    no  False  \n",
      "1  woman       False    C    Cherbourg   yes  False  \n",
      "2  woman       False  NaN  Southampton   yes   True  \n",
      "3  woman       False    C  Southampton   yes  False  \n",
      "4    man        True  NaN  Southampton    no   True  \n"
     ]
    }
   ],
   "source": [
    "print(data.head())"
   ]
  },
  {
   "cell_type": "code",
   "execution_count": 34,
   "id": "6a9c0d38",
   "metadata": {},
   "outputs": [],
   "source": [
    "for col in data.columns:\n",
    "    if data[col].dtype == \"object\" or data[col].dtype.name == \"category\":\n",
    "        le = LabelEncoder()\n",
    "        data[col] = le.fit_transform(data[col].astype(str))"
   ]
  },
  {
   "cell_type": "code",
   "execution_count": 35,
   "id": "d334851c",
   "metadata": {},
   "outputs": [],
   "source": [
    "data[\"age\"] = data[\"age\"].fillna(data[\"age\"].median())"
   ]
  },
  {
   "cell_type": "code",
   "execution_count": 36,
   "id": "2f1c2d84",
   "metadata": {},
   "outputs": [
    {
     "name": "stdout",
     "output_type": "stream",
     "text": [
      "Accuracy Score: 0.8044692737430168\n",
      "\n",
      "Classification Report:\n",
      "               precision    recall  f1-score   support\n",
      "\n",
      "           0       0.86      0.82      0.84       110\n",
      "           1       0.73      0.78      0.76        69\n",
      "\n",
      "    accuracy                           0.80       179\n",
      "   macro avg       0.79      0.80      0.80       179\n",
      "weighted avg       0.81      0.80      0.81       179\n",
      "\n"
     ]
    }
   ],
   "source": [
    "# Features and target\n",
    "X = data.drop(columns=[\"alive\", \"deck\", \"survived\"])\n",
    "y = data[\"survived\"]\n",
    "\n",
    "# Split (80% train, 20% test)\n",
    "train_X, test_X, train_Y, test_Y = train_test_split(\n",
    "    X, y, test_size=0.2, random_state=42, stratify=y\n",
    ")\n",
    "\n",
    "# Train AdaBoost\n",
    "model = AdaBoostClassifier(n_estimators=100, random_state=42)\n",
    "model.fit(train_X, train_Y)\n",
    "\n",
    "# Predict\n",
    "y_pred = model.predict(test_X)\n",
    "\n",
    "# Evaluate\n",
    "print(\"Accuracy Score:\", accuracy_score(test_Y, y_pred))\n",
    "print(\"\\nClassification Report:\\n\", classification_report(test_Y, y_pred))"
   ]
  },
  {
   "cell_type": "markdown",
   "id": "81817a83",
   "metadata": {},
   "source": [
    "We do just a quick overvieww of the adaptive boosting because its rather slow then the other boosting tchniques but important if u wanna learn the next boosting techniques this is the foundation"
   ]
  }
 ],
 "metadata": {
  "kernelspec": {
   "display_name": "venv",
   "language": "python",
   "name": "python3"
  },
  "language_info": {
   "codemirror_mode": {
    "name": "ipython",
    "version": 3
   },
   "file_extension": ".py",
   "mimetype": "text/x-python",
   "name": "python",
   "nbconvert_exporter": "python",
   "pygments_lexer": "ipython3",
   "version": "3.13.1"
  }
 },
 "nbformat": 4,
 "nbformat_minor": 5
}
