{
 "cells": [
  {
   "cell_type": "markdown",
   "id": "5afcaa72",
   "metadata": {},
   "source": [
    "`Decision Tree Algorithm\n",
    "`\n",
    "A decision tree is a supervised machine learning algorithm used for classification and regression tasks. It works by recursively partitioning the data into smaller subsets based on the features of the data.\n",
    "\n",
    "How Decision Trees Work:\n",
    "\n",
    "1. Root Node: The algorithm starts with a root node that represents the entire dataset.\n",
    "2. Feature Selection: The algorithm selects the best feature to split the data based on a specific criterion (e.g., Gini impurity or entropy).\n",
    "3. Splitting: The data is split into two or more child nodes based on the selected feature.\n",
    "4. Recursion: The algorithm recursively applies the feature selection and splitting process to each child node until a stopping criterion is met (e.g., all instances in a node belong to the same class).\n",
    "5. Leaf Node: The final nodes in the tree are called leaf nodes, which represent the predicted class labels or target values.\n",
    "\n",
    "Types of Decision Trees:\n",
    "\n",
    "1. Classification Trees: Used for classification tasks, where the target variable is categorical.\n",
    "2. Regression Trees: Used for regression tasks, where the target variable is continuous.\n",
    "\n",
    "Advantages:\n",
    "\n",
    "1. Interpretability: Decision trees are easy to interpret and visualize.\n",
    "2. Handling Non-Linear Relationships: Decision trees can handle non-linear relationships between features and target variables.\n",
    "3. Handling Missing Values: Decision trees can handle missing values in the data.\n",
    "\n",
    "Disadvantages:\n",
    "\n",
    "1. Overfitting: Decision trees can suffer from overfitting, especially when the trees are deep.\n",
    "2. Instability: Decision trees can be unstable, meaning small changes in the data can result in large changes in the tree structure.\n",
    "\n",
    "Applications:\n",
    "\n",
    "1. Classification: Decision trees are widely used for classification tasks, such as spam detection, sentiment analysis, and medical diagnosis.\n",
    "2. Regression: Decision trees are used for regression tasks, such as predicting continuous outcomes like house prices or stock prices.\n",
    "\n",
    "Ensemble Methods:\n",
    "\n",
    "1. Random Forests: An ensemble method that combines multiple decision trees to improve the accuracy and robustness of predictions.\n",
    "2. Gradient Boosting: An ensemble method that combines multiple decision trees in a sequential manner to improve the accuracy of predictions.\n",
    "\n",
    "Decision trees are a fundamental algorithm in machine learning, and their simplicity and interpretability make them a popular choice for many applications."
   ]
  },
  {
   "cell_type": "code",
   "execution_count": 47,
   "id": "492f9eb1",
   "metadata": {},
   "outputs": [],
   "source": [
    "import numpy as np\n",
    "import pandas as pd\n",
    "import matplotlib.pyplot as plt\n",
    "import seaborn as sns\n",
    "\n",
    "from sklearn.preprocessing import LabelEncoder\n",
    "from sklearn.impute import SimpleImputer\n",
    "from sklearn.tree import DecisionTreeClassifier\n",
    "from sklearn.metrics import accuracy_score, precision_score, recall_score, f1_score, confusion_matrix, classification_report\n",
    "from sklearn.model_selection import train_test_split\n"
   ]
  },
  {
   "cell_type": "code",
   "execution_count": 48,
   "id": "ec5cf956",
   "metadata": {},
   "outputs": [
    {
     "data": {
      "text/html": [
       "<div>\n",
       "<style scoped>\n",
       "    .dataframe tbody tr th:only-of-type {\n",
       "        vertical-align: middle;\n",
       "    }\n",
       "\n",
       "    .dataframe tbody tr th {\n",
       "        vertical-align: top;\n",
       "    }\n",
       "\n",
       "    .dataframe thead th {\n",
       "        text-align: right;\n",
       "    }\n",
       "</style>\n",
       "<table border=\"1\" class=\"dataframe\">\n",
       "  <thead>\n",
       "    <tr style=\"text-align: right;\">\n",
       "      <th></th>\n",
       "      <th>survived</th>\n",
       "      <th>pclass</th>\n",
       "      <th>sex</th>\n",
       "      <th>age</th>\n",
       "      <th>sibsp</th>\n",
       "      <th>parch</th>\n",
       "      <th>fare</th>\n",
       "      <th>embarked</th>\n",
       "      <th>class</th>\n",
       "      <th>who</th>\n",
       "      <th>adult_male</th>\n",
       "      <th>deck</th>\n",
       "      <th>embark_town</th>\n",
       "      <th>alive</th>\n",
       "      <th>alone</th>\n",
       "    </tr>\n",
       "  </thead>\n",
       "  <tbody>\n",
       "    <tr>\n",
       "      <th>0</th>\n",
       "      <td>0</td>\n",
       "      <td>3</td>\n",
       "      <td>male</td>\n",
       "      <td>22.0</td>\n",
       "      <td>1</td>\n",
       "      <td>0</td>\n",
       "      <td>7.2500</td>\n",
       "      <td>S</td>\n",
       "      <td>Third</td>\n",
       "      <td>man</td>\n",
       "      <td>True</td>\n",
       "      <td>NaN</td>\n",
       "      <td>Southampton</td>\n",
       "      <td>no</td>\n",
       "      <td>False</td>\n",
       "    </tr>\n",
       "    <tr>\n",
       "      <th>1</th>\n",
       "      <td>1</td>\n",
       "      <td>1</td>\n",
       "      <td>female</td>\n",
       "      <td>38.0</td>\n",
       "      <td>1</td>\n",
       "      <td>0</td>\n",
       "      <td>71.2833</td>\n",
       "      <td>C</td>\n",
       "      <td>First</td>\n",
       "      <td>woman</td>\n",
       "      <td>False</td>\n",
       "      <td>C</td>\n",
       "      <td>Cherbourg</td>\n",
       "      <td>yes</td>\n",
       "      <td>False</td>\n",
       "    </tr>\n",
       "    <tr>\n",
       "      <th>2</th>\n",
       "      <td>1</td>\n",
       "      <td>3</td>\n",
       "      <td>female</td>\n",
       "      <td>26.0</td>\n",
       "      <td>0</td>\n",
       "      <td>0</td>\n",
       "      <td>7.9250</td>\n",
       "      <td>S</td>\n",
       "      <td>Third</td>\n",
       "      <td>woman</td>\n",
       "      <td>False</td>\n",
       "      <td>NaN</td>\n",
       "      <td>Southampton</td>\n",
       "      <td>yes</td>\n",
       "      <td>True</td>\n",
       "    </tr>\n",
       "    <tr>\n",
       "      <th>3</th>\n",
       "      <td>1</td>\n",
       "      <td>1</td>\n",
       "      <td>female</td>\n",
       "      <td>35.0</td>\n",
       "      <td>1</td>\n",
       "      <td>0</td>\n",
       "      <td>53.1000</td>\n",
       "      <td>S</td>\n",
       "      <td>First</td>\n",
       "      <td>woman</td>\n",
       "      <td>False</td>\n",
       "      <td>C</td>\n",
       "      <td>Southampton</td>\n",
       "      <td>yes</td>\n",
       "      <td>False</td>\n",
       "    </tr>\n",
       "    <tr>\n",
       "      <th>4</th>\n",
       "      <td>0</td>\n",
       "      <td>3</td>\n",
       "      <td>male</td>\n",
       "      <td>35.0</td>\n",
       "      <td>0</td>\n",
       "      <td>0</td>\n",
       "      <td>8.0500</td>\n",
       "      <td>S</td>\n",
       "      <td>Third</td>\n",
       "      <td>man</td>\n",
       "      <td>True</td>\n",
       "      <td>NaN</td>\n",
       "      <td>Southampton</td>\n",
       "      <td>no</td>\n",
       "      <td>True</td>\n",
       "    </tr>\n",
       "  </tbody>\n",
       "</table>\n",
       "</div>"
      ],
      "text/plain": [
       "   survived  pclass     sex   age  sibsp  parch     fare embarked  class  \\\n",
       "0         0       3    male  22.0      1      0   7.2500        S  Third   \n",
       "1         1       1  female  38.0      1      0  71.2833        C  First   \n",
       "2         1       3  female  26.0      0      0   7.9250        S  Third   \n",
       "3         1       1  female  35.0      1      0  53.1000        S  First   \n",
       "4         0       3    male  35.0      0      0   8.0500        S  Third   \n",
       "\n",
       "     who  adult_male deck  embark_town alive  alone  \n",
       "0    man        True  NaN  Southampton    no  False  \n",
       "1  woman       False    C    Cherbourg   yes  False  \n",
       "2  woman       False  NaN  Southampton   yes   True  \n",
       "3  woman       False    C  Southampton   yes  False  \n",
       "4    man        True  NaN  Southampton    no   True  "
      ]
     },
     "execution_count": 48,
     "metadata": {},
     "output_type": "execute_result"
    }
   ],
   "source": [
    "data = sns.load_dataset('titanic')\n",
    "data.head()"
   ]
  },
  {
   "cell_type": "code",
   "execution_count": 49,
   "id": "e50707f4",
   "metadata": {},
   "outputs": [
    {
     "name": "stdout",
     "output_type": "stream",
     "text": [
      "<class 'pandas.core.frame.DataFrame'>\n",
      "RangeIndex: 891 entries, 0 to 890\n",
      "Data columns (total 15 columns):\n",
      " #   Column       Non-Null Count  Dtype   \n",
      "---  ------       --------------  -----   \n",
      " 0   survived     891 non-null    int64   \n",
      " 1   pclass       891 non-null    int64   \n",
      " 2   sex          891 non-null    object  \n",
      " 3   age          714 non-null    float64 \n",
      " 4   sibsp        891 non-null    int64   \n",
      " 5   parch        891 non-null    int64   \n",
      " 6   fare         891 non-null    float64 \n",
      " 7   embarked     889 non-null    object  \n",
      " 8   class        891 non-null    category\n",
      " 9   who          891 non-null    object  \n",
      " 10  adult_male   891 non-null    bool    \n",
      " 11  deck         203 non-null    category\n",
      " 12  embark_town  889 non-null    object  \n",
      " 13  alive        891 non-null    object  \n",
      " 14  alone        891 non-null    bool    \n",
      "dtypes: bool(2), category(2), float64(2), int64(4), object(5)\n",
      "memory usage: 80.7+ KB\n"
     ]
    }
   ],
   "source": [
    "data.info()"
   ]
  },
  {
   "cell_type": "code",
   "execution_count": 50,
   "id": "07ecea16",
   "metadata": {},
   "outputs": [
    {
     "name": "stdout",
     "output_type": "stream",
     "text": [
      "   survived  pclass  sex   age  sibsp  parch     fare  embarked  class  who  \\\n",
      "0         0       3    1  22.0      1      0   7.2500         2      2    1   \n",
      "1         1       1    0  38.0      1      0  71.2833         0      0    2   \n",
      "2         1       3    0  26.0      0      0   7.9250         2      2    2   \n",
      "3         1       1    0  35.0      1      0  53.1000         2      0    2   \n",
      "4         0       3    1  35.0      0      0   8.0500         2      2    1   \n",
      "\n",
      "   adult_male  embark_town  alive  alone  \n",
      "0        True            2      0  False  \n",
      "1       False            0      1  False  \n",
      "2       False            2      1   True  \n",
      "3       False            2      1  False  \n",
      "4        True            2      0   True  \n"
     ]
    }
   ],
   "source": [
    "\n",
    "# 1. Numeric imputation\n",
    "num_imputer = SimpleImputer(strategy=\"median\")\n",
    "data[[\"age\", \"fare\"]] = num_imputer.fit_transform(data[[\"age\", \"fare\"]])\n",
    "\n",
    "# 2. Categorical imputation\n",
    "cat_imputer = SimpleImputer(strategy=\"most_frequent\")\n",
    "data[[\"embark_town\", \"embarked\"]] = cat_imputer.fit_transform(data[[\"embark_town\", \"embarked\"]])\n",
    "\n",
    "# 3. Drop unnecessary column\n",
    "data = data.drop(columns=\"deck\", axis=1)\n",
    "\n",
    "# 4. Label encode categorical/object columns\n",
    "le = LabelEncoder()\n",
    "for col in data.select_dtypes(include=[\"object\", \"category\"]).columns:\n",
    "    data[col] = le.fit_transform(data[col])\n",
    "\n",
    "print(data.head())"
   ]
  },
  {
   "cell_type": "code",
   "execution_count": 51,
   "id": "deec87d0",
   "metadata": {},
   "outputs": [],
   "source": [
    "X = data.drop(columns=['alive', 'survived'], axis=1)\n",
    "y = data['survived']\n",
    "\n",
    "train_X, test_X, train_Y, test_Y = train_test_split(X, y, train_size=0.2, random_state=42)"
   ]
  },
  {
   "cell_type": "code",
   "execution_count": null,
   "id": "ccdc72ff",
   "metadata": {},
   "outputs": [],
   "source": [
    "model = DecisionTreeClassifier(max_depth=5)\n",
    "model.fit(train_X, train_Y)\n",
    "\n",
    "y_pred = model.predict(test_X)"
   ]
  },
  {
   "cell_type": "code",
   "execution_count": 53,
   "id": "fc89cf82",
   "metadata": {},
   "outputs": [
    {
     "name": "stdout",
     "output_type": "stream",
     "text": [
      "\n",
      "Confusion Matrix:\n",
      " [[366  70]\n",
      " [ 85 192]]\n",
      "\n",
      "Classification Report:\n",
      "               precision    recall  f1-score   support\n",
      "\n",
      "           0       0.81      0.84      0.83       436\n",
      "           1       0.73      0.69      0.71       277\n",
      "\n",
      "    accuracy                           0.78       713\n",
      "   macro avg       0.77      0.77      0.77       713\n",
      "weighted avg       0.78      0.78      0.78       713\n",
      "\n"
     ]
    }
   ],
   "source": [
    "# 📊 Evaluate performance\n",
    "print(\"\\nConfusion Matrix:\\n\", confusion_matrix(test_Y, y_pred))\n",
    "print(\"\\nClassification Report:\\n\", classification_report(test_Y, y_pred))"
   ]
  },
  {
   "cell_type": "code",
   "execution_count": 54,
   "id": "4ee83007",
   "metadata": {},
   "outputs": [
    {
     "data": {
      "image/png": "[encoded data removed]",
      "text/plain": [
       "<Figure size 640x480 with 2 Axes>"
      ]
     },
     "metadata": {},
     "output_type": "display_data"
    }
   ],
   "source": [
    "sns.heatmap(data=confusion_matrix(test_Y, y_pred), annot=True)\n",
    "plt.show()"
   ]
  }
 ],
 "metadata": {
  "kernelspec": {
   "display_name": "venv",
   "language": "python",
   "name": "python3"
  },
  "language_info": {
   "codemirror_mode": {
    "name": "ipython",
    "version": 3
   },
   "file_extension": ".py",
   "mimetype": "text/x-python",
   "name": "python",
   "nbconvert_exporter": "python",
   "pygments_lexer": "ipython3",
   "version": "3.13.1"
  }
 },
 "nbformat": 4,
 "nbformat_minor": 5
}
